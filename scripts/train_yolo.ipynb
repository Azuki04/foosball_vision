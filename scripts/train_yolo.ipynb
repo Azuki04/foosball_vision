{
 "cells": [
  {
   "metadata": {},
   "cell_type": "markdown",
   "source": [
    "# Train a custom model\n",
    "This notebook will train a custom model using the YOLO11n model. The model will be trained on the FoosballVision dataset.\n",
    "If you don't have a GPU, you can use Google Colab to train the model."
   ],
   "id": "8d0331161bd01e3d"
  },
  {
   "metadata": {},
   "cell_type": "markdown",
   "source": [
    "### Check GPU and RAM Information\n",
    " "
   ],
   "id": "c4798955aaaeb776"
  },
  {
   "cell_type": "code",
   "id": "initial_id",
   "metadata": {
    "collapsed": true,
    "ExecuteTime": {
     "end_time": "2024-10-12T17:49:44.810325Z",
     "start_time": "2024-10-12T17:49:44.639288Z"
    }
   },
   "source": "!nvidia-smi",
   "outputs": [
    {
     "name": "stdout",
     "output_type": "stream",
     "text": [
      "zsh:1: command not found: nvidia-smi\r\n"
     ]
    }
   ],
   "execution_count": 1
  },
  {
   "metadata": {},
   "cell_type": "markdown",
   "source": "### Install Ultralytics",
   "id": "96444f92bd24fbc2"
  },
  {
   "metadata": {},
   "cell_type": "code",
   "source": "!pip install ultralytics",
   "id": "53c7e02aecbfb3af",
   "outputs": [],
   "execution_count": null
  },
  {
   "metadata": {},
   "cell_type": "markdown",
   "source": [
    "\n",
    "### Download the dataset\n",
    "\n",
    "We will use the Roboflow API to download the dataset. You can also download the dataset manually and upload it to the notebook."
   ],
   "id": "d3dcb54be5ca6ffa"
  },
  {
   "metadata": {},
   "cell_type": "code",
   "source": [
    "!pip install roboflow\n",
    "\n",
    "from roboflow import Roboflow\n",
    "rf = Roboflow(api_key=\"YOUR_API_KEY\")\n",
    "project = rf.workspace(\"foosballvision\").project(\"foosballvision\")\n",
    "version = project.version(2)\n",
    "dataset = version.download(\"yolov11\")"
   ],
   "id": "e87d3d9ca6ea836",
   "outputs": [],
   "execution_count": null
  },
  {
   "metadata": {},
   "cell_type": "markdown",
   "source": [
    "\n",
    "### Train the model\n",
    "\n",
    "Load yolo model\n",
    "Use your preferred yolo model. The model will be trained on the dataset."
   ],
   "id": "7cfb9431f97d34c6"
  },
  {
   "metadata": {},
   "cell_type": "code",
   "source": [
    "from ultralytics import YOLO\n",
    "\n",
    "model = YOLO(\"yolo11x.pt\")"
   ],
   "id": "6515c455f8a97a1e",
   "outputs": [],
   "execution_count": null
  },
  {
   "metadata": {},
   "cell_type": "markdown",
   "source": [
    "\n",
    "\n",
    "The model will be trained for 100 epochs with a batch size of 21 and an image size of 640."
   ],
   "id": "628aa9bb4b3c9487"
  },
  {
   "metadata": {},
   "cell_type": "code",
   "source": "results = model.train(data=\"/content/FoosballVision-2/data.yaml\", epochs=100, imgsz=640, batch=21)",
   "id": "df03a1f90e7c641e",
   "outputs": [],
   "execution_count": null
  }
 ],
 "metadata": {
  "kernelspec": {
   "display_name": "Python 3",
   "language": "python",
   "name": "python3"
  },
  "language_info": {
   "codemirror_mode": {
    "name": "ipython",
    "version": 2
   },
   "file_extension": ".py",
   "mimetype": "text/x-python",
   "name": "python",
   "nbconvert_exporter": "python",
   "pygments_lexer": "ipython2",
   "version": "2.7.6"
  }
 },
 "nbformat": 4,
 "nbformat_minor": 5
}
